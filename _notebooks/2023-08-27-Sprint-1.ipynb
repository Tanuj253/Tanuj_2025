{
 "cells": [
  {
   "cell_type": "markdown",
   "metadata": {},
   "source": [
    "---\n",
    "layout: post\n",
    "title: Sprint 1 checklist\n",
    "description:  sprint 1\n",
    "type: issues \n",
    "comments: true\n",
    "---"
   ]
  },
  {
   "cell_type": "markdown",
   "metadata": {},
   "source": [
    "Sprint 1:\n",
    "\n",
    "updated about me page:\n",
    "    Needs a toggle or changable theme.\n",
    "    Needs images to display.\n",
    "Hacks:\n",
    "    Emoji's\n",
    "    Website scanning\n",
    "    Tool analysis"
   ]
  },
  {
   "cell_type": "markdown",
   "metadata": {},
   "source": []
  }
 ],
 "metadata": {
  "language_info": {
   "name": "python"
  }
 },
 "nbformat": 4,
 "nbformat_minor": 2
}
